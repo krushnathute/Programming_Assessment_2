{
 "cells": [
  {
   "cell_type": "code",
   "execution_count": null,
   "id": "86993503",
   "metadata": {},
   "outputs": [],
   "source": [
    "#installing all the required libraries\n",
    "pip install pandas\n",
    "pip install matplotlib\n",
    "pip install seaborn\n",
    "pip install scipy\n",
    "pip install statsmodels\n",
    "pip install geopandas"
   ]
  },
  {
   "cell_type": "code",
   "execution_count": null,
   "id": "559bef5d",
   "metadata": {},
   "outputs": [],
   "source": [
    "#importing all the libraries that will be required\n",
    "import pandas as pd\n",
    "import matplotlib.pyplot as plt\n",
    "import seaborn as sns\n",
    "from scipy.stats import linregress\n",
    "import statsmodels.api as sm\n",
    "import geopandas as gpd\n"
   ]
  },
  {
   "cell_type": "code",
   "execution_count": null,
   "id": "d7549d36",
   "metadata": {},
   "outputs": [],
   "source": [
    "#Defining the path of our dataset\n",
    "data = pd.read_csv('Suicides_by_causes_state.csv')\n",
    "\n"
   ]
  },
  {
   "cell_type": "code",
   "execution_count": null,
   "id": "930ea858",
   "metadata": {},
   "outputs": [],
   "source": [
    "#Checking to see the dataset\n",
    "data\n",
    "\n"
   ]
  },
  {
   "cell_type": "code",
   "execution_count": null,
   "id": "e6f37a8e",
   "metadata": {},
   "outputs": [],
   "source": [
    "#After checking our dataset we find there are additional rows of TOTAL UTs and TOTAL ALL INDIA\n",
    "#since it will mess up our visualizations we will exclude it to make clean visualizations\n",
    "#we will do that by filtering our dataset with all the rows in STATE/UT containing the string TOTAL\n",
    "df = data[~data['STATE/UT'].str.startswith('TOTAL')]\n",
    "\n"
   ]
  },
  {
   "cell_type": "code",
   "execution_count": null,
   "id": "f2078339",
   "metadata": {},
   "outputs": [],
   "source": [
    "# Now, we can use filtered_df for your visualizations\n",
    "#Displaying the data\n",
    "\n",
    "df"
   ]
  },
  {
   "cell_type": "code",
   "execution_count": null,
   "id": "c25c00be",
   "metadata": {},
   "outputs": [],
   "source": [
    "#This code segment is analyzing and visualizing the yearly trends of total suicide cases in line chart. \n",
    "\n",
    "#Yearly Trends\n",
    "\n",
    "# Group the DataFrame 'df' by the 'Year' column and sum the 'Grand Total' for each year\n",
    "yearly_trends = df.groupby('Year')['Grand Total'].sum()\n",
    "\n",
    "# Plotting the yearly trend\n",
    "plt.plot(yearly_trends.index, yearly_trends.values)\n",
    "\n",
    "# Adding title to the plot\n",
    "plt.title('Yearly Trends - Total Suicide Cases')\n",
    "\n",
    "# Adding label to the x-axis\n",
    "plt.xlabel('Year')\n",
    "\n",
    "# Adding label to the y-axis\n",
    "plt.ylabel('Total Suicide Cases')\n",
    "\n",
    "# Display the plot\n",
    "plt.show()\n"
   ]
  },
  {
   "cell_type": "code",
   "execution_count": null,
   "id": "b35fdc9d",
   "metadata": {},
   "outputs": [],
   "source": [
    "#This code segment is analyzing and visualizing the gender distribution of suicide cases over the years in  stacked bar chart\n",
    "\n",
    "# Gender Distribution\n",
    "\n",
    "# Group the DataFrame 'df' by the 'Year' column and sum the 'Total Male' and 'Total Female' for each year\n",
    "gender_distribution = df.groupby('Year')[['Total Male', 'Total Female']].sum()\n",
    "\n",
    "# Plotting the gender distribution as a stacked bar chart\n",
    "gender_distribution.plot(kind='bar', stacked=True)\n",
    "\n",
    "# Adding title to the plot\n",
    "plt.title('Gender Distribution of Suicide Cases Over Years')\n",
    "\n",
    "# Adding label to the x-axis\n",
    "plt.xlabel('Year')\n",
    "\n",
    "# Adding label to the y-axis\n",
    "plt.ylabel('Total Suicide Cases')\n",
    "\n",
    "# Display the plot\n",
    "plt.show()"
   ]
  },
  {
   "cell_type": "code",
   "execution_count": null,
   "id": "b003bb4c",
   "metadata": {},
   "outputs": [],
   "source": []
  },
  {
   "cell_type": "code",
   "execution_count": null,
   "id": "35f3c129",
   "metadata": {},
   "outputs": [],
   "source": []
  }
 ],
 "metadata": {
  "kernelspec": {
   "display_name": "Python 3 (ipykernel)",
   "language": "python",
   "name": "python3"
  },
  "language_info": {
   "codemirror_mode": {
    "name": "ipython",
    "version": 3
   },
   "file_extension": ".py",
   "mimetype": "text/x-python",
   "name": "python",
   "nbconvert_exporter": "python",
   "pygments_lexer": "ipython3",
   "version": "3.11.5"
  }
 },
 "nbformat": 4,
 "nbformat_minor": 5
}
