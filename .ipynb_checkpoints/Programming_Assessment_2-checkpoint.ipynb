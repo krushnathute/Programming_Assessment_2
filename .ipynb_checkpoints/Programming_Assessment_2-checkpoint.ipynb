{
 "cells": [
  {
   "cell_type": "code",
   "execution_count": null,
   "id": "86993503",
   "metadata": {},
   "outputs": [],
   "source": [
    "#installing all the required libraries\n",
    "pip install pandas\n",
    "pip install matplotlib\n",
    "pip install seaborn\n",
    "pip install scipy\n",
    "pip install statsmodels\n",
    "pip install geopandas"
   ]
  },
  {
   "cell_type": "code",
   "execution_count": null,
   "id": "559bef5d",
   "metadata": {},
   "outputs": [],
   "source": [
    "#importing all the libraries that will be required\n",
    "import pandas as pd\n",
    "import matplotlib.pyplot as plt\n",
    "import seaborn as sns\n",
    "from scipy.stats import linregress\n",
    "import statsmodels.api as sm\n",
    "import geopandas as gpd\n"
   ]
  },
  {
   "cell_type": "code",
   "execution_count": null,
   "id": "d7549d36",
   "metadata": {},
   "outputs": [],
   "source": [
    "#Defining the path of our dataset\n",
    "data = pd.read_csv('Suicides_by_causes_state.csv')\n",
    "\n"
   ]
  },
  {
   "cell_type": "code",
   "execution_count": null,
   "id": "930ea858",
   "metadata": {},
   "outputs": [],
   "source": [
    "#Checking to see the dataset\n",
    "data\n",
    "\n"
   ]
  },
  {
   "cell_type": "code",
   "execution_count": null,
   "id": "e6f37a8e",
   "metadata": {},
   "outputs": [],
   "source": [
    "#After checking our dataset we find there are additional rows of TOTAL UTs and TOTAL ALL INDIA\n",
    "#since it will mess up our visualizations we will exclude it to make clean visualizations\n",
    "#we will do that by filtering our dataset with all the rows in STATE/UT containing the string TOTAL\n",
    "df = data[~data['STATE/UT'].str.startswith('TOTAL')]\n",
    "\n"
   ]
  },
  {
   "cell_type": "code",
   "execution_count": null,
   "id": "f2078339",
   "metadata": {},
   "outputs": [],
   "source": [
    "# Now, we can use filtered_df for your visualizations\n",
    "#Displaying the data\n",
    "\n",
    "df"
   ]
  },
  {
   "cell_type": "code",
   "execution_count": null,
   "id": "c25c00be",
   "metadata": {},
   "outputs": [],
   "source": [
    "#This code segment is analyzing and visualizing the yearly trends of total suicide cases in line chart. \n",
    "\n",
    "#Yearly Trends\n",
    "\n",
    "# Group the DataFrame 'df' by the 'Year' column and sum the 'Grand Total' for each year\n",
    "yearly_trends = df.groupby('Year')['Grand Total'].sum()\n",
    "\n",
    "# Plotting the yearly trend\n",
    "plt.plot(yearly_trends.index, yearly_trends.values)\n",
    "\n",
    "# Adding title to the plot\n",
    "plt.title('Yearly Trends - Total Suicide Cases')\n",
    "\n",
    "# Adding label to the x-axis\n",
    "plt.xlabel('Year')\n",
    "\n",
    "# Adding label to the y-axis\n",
    "plt.ylabel('Total Suicide Cases')\n",
    "\n",
    "# Display the plot\n",
    "plt.show()\n"
   ]
  },
  {
   "cell_type": "code",
   "execution_count": null,
   "id": "b35fdc9d",
   "metadata": {},
   "outputs": [],
   "source": [
    "#This code segment is analyzing and visualizing the gender distribution of suicide cases over the years in  stacked bar chart\n",
    "\n",
    "# Gender Distribution\n",
    "\n",
    "# Group the DataFrame 'df' by the 'Year' column and sum the 'Total Male' and 'Total Female' for each year\n",
    "gender_distribution = df.groupby('Year')[['Total Male', 'Total Female']].sum()\n",
    "\n",
    "# Plotting the gender distribution as a stacked bar chart\n",
    "gender_distribution.plot(kind='bar', stacked=True)\n",
    "\n",
    "# Adding title to the plot\n",
    "plt.title('Gender Distribution of Suicide Cases Over Years')\n",
    "\n",
    "# Adding label to the x-axis\n",
    "plt.xlabel('Year')\n",
    "\n",
    "# Adding label to the y-axis\n",
    "plt.ylabel('Total Suicide Cases')\n",
    "\n",
    "# Display the plot\n",
    "plt.show()"
   ]
  },
  {
   "cell_type": "code",
   "execution_count": null,
   "id": "b003bb4c",
   "metadata": {},
   "outputs": [],
   "source": [
    "#This code segment is performing an age group analysis of suicide cases over the years. \n",
    "\n",
    "\n",
    "# Age Group Analysis\n",
    "\n",
    "# Group the DataFrame 'df' by the 'Year' column and sum the suicide cases for different age groups, separated by gender\n",
    "age_group_analysis = df.groupby('Year')[['Male upto 14 years', 'Male 15-29 years', 'Male 30-44 years', 'Male 45-59 years', 'Male 60 years and above',\n",
    "                                        'Female upto 14 years', 'Female 15-29 years', 'Female 30-44 years', 'Female 45-59 years', 'Female 60 years and above']].sum()\n",
    "\n",
    "# Plotting the age group analysis as a stacked bar chart with a legend\n",
    "age_group_analysis.plot(kind='bar', stacked=True).legend(bbox_to_anchor=(1,1))\n",
    "\n",
    "# Adding title to the plot\n",
    "plt.title('Age Group Analysis of Suicide Cases Over Years')\n",
    "\n",
    "# Adding label to the x-axis\n",
    "plt.xlabel('Year')\n",
    "\n",
    "# Adding label to the y-axis\n",
    "plt.ylabel('Total Suicide Cases')\n",
    "\n",
    "# Display the plot\n",
    "plt.show()\n"
   ]
  },
  {
   "cell_type": "code",
   "execution_count": null,
   "id": "35f3c129",
   "metadata": {},
   "outputs": [],
   "source": [
    "\n",
    "# Exclude rows with causes 'Total' and 'Total Illness' to help in better visualization\n",
    "filtered_df = df[~df['CAUSE'].isin(['Total', 'Total Illness'])]\n",
    "\n",
    "#This code segment performs a cause-wise analysis of suicide cases over the years.\n",
    "\n",
    "# Group the DataFrame 'filtered_df' by both 'Year' and 'CAUSE', then unstack to create a pivot table\n",
    "cause_wise_analysis = filtered_df.groupby(['Year', 'CAUSE'])['Grand Total'].sum().unstack()\n",
    "\n",
    "# Plotting the cause-wise analysis as a stacked bar chart with a legend and adjusted figure size\n",
    "cause_wise_analysis.plot(kind='bar', stacked=True, figsize=(15, 10)).legend(bbox_to_anchor=(1,1))\n",
    "\n",
    "# Adding title to the plot\n",
    "plt.title('Cause-wise Analysis of Suicide Cases Over Years')\n",
    "\n",
    "# Adding label to the x-axis\n",
    "plt.xlabel('Year')\n",
    "\n",
    "# Adding label to the y-axis\n",
    "plt.ylabel('Total Suicide Cases')\n",
    "\n",
    "# Display the plot\n",
    "plt.show()"
   ]
  },
  {
   "cell_type": "code",
   "execution_count": null,
   "id": "be1055a1",
   "metadata": {},
   "outputs": [],
   "source": [
    "#This code segment analyzes the top 10 causes of suicide cases by filtering the DataFrame and grouping it by 'CAUSE'\n",
    "\n",
    "# Group the filtered DataFrame by 'CAUSE' and calculate the sum of 'Grand Total', sort the values in descending order, and select the top 10 causes\n",
    "top_causes = filtered_df.groupby('CAUSE')['Grand Total'].sum().sort_values(ascending=False).head(10)\n",
    "\n",
    "# Plotting the top causes as a bar chart\n",
    "top_causes.plot(kind='bar')\n",
    "\n",
    "# Adding title to the plot\n",
    "plt.title('Top 10 Causes of Suicide Cases')\n",
    "\n",
    "# Adding label to the x-axis\n",
    "plt.xlabel('Cause')\n",
    "\n",
    "# Adding label to the y-axis\n",
    "plt.ylabel('Total Suicide Cases')\n",
    "\n",
    "# Display the plot\n",
    "plt.show()"
   ]
  },
  {
   "cell_type": "code",
   "execution_count": null,
   "id": "f1f092a5",
   "metadata": {},
   "outputs": [],
   "source": [
    "#This code segment performs a state/UT-wise analysis of suicide cases by grouping the DataFrame 'df' by 'STATE/UT'.\n",
    "\n",
    "#State/UT-wise Analysis\n",
    "\n",
    "# Group the DataFrame 'df' by 'STATE/UT' and calculate the sum of 'Grand Total' for each state, then sort the values in descending order\n",
    "state_wise_analysis = df.groupby('STATE/UT')['Grand Total'].sum().sort_values(ascending=False)\n",
    "\n",
    "# Plotting the state/UT-wise analysis as a bar chart with a specified figure size\n",
    "state_wise_analysis.plot(kind='bar', figsize=(12, 6))\n",
    "\n",
    "# Adding title to the plot\n",
    "plt.title('State/UT-wise Analysis of Suicide Cases')\n",
    "\n",
    "# Adding label to the x-axis\n",
    "plt.xlabel('State/UT')\n",
    "\n",
    "# Adding label to the y-axis\n",
    "plt.ylabel('Total Suicide Cases')\n",
    "\n",
    "# Display the plot\n",
    "plt.show()\n"
   ]
  },
  {
   "cell_type": "code",
   "execution_count": null,
   "id": "f64c6681",
   "metadata": {},
   "outputs": [],
   "source": [
    "#This code segment creates a yearly trend for the \"Failure in Examination\" cause. \n",
    "\n",
    "# Yearly Trend for Failure in Examination\n",
    "# Filter the data for the 'Failure in Examination' cause\n",
    "failure_data = df[df['CAUSE'] == 'Failure in Examination']\n",
    "\n",
    "# Group the data by year and calculate the total failures each year\n",
    "yearly_failure = failure_data.groupby('Year')['Grand Total'].sum().reset_index()\n",
    "\n",
    "# Plotting the yearly trend for failure in examination as a line chart\n",
    "plt.figure(figsize=(10, 6))\n",
    "plt.plot(yearly_failure['Year'], yearly_failure['Grand Total'], marker='o', linestyle='-')\n",
    "\n",
    "# Adding title to the plot\n",
    "plt.title('Yearly Trend for Failure in Examination')\n",
    "\n",
    "# Adding label to the x-axis\n",
    "plt.xlabel('Year')\n",
    "\n",
    "# Adding label to the y-axis\n",
    "plt.ylabel('Total Failures')\n",
    "\n",
    "# Adding grid lines to the plot\n",
    "plt.grid(True)\n",
    "\n",
    "# Display the plot\n",
    "plt.show()"
   ]
  }
 ],
 "metadata": {
  "kernelspec": {
   "display_name": "Python 3 (ipykernel)",
   "language": "python",
   "name": "python3"
  },
  "language_info": {
   "codemirror_mode": {
    "name": "ipython",
    "version": 3
   },
   "file_extension": ".py",
   "mimetype": "text/x-python",
   "name": "python",
   "nbconvert_exporter": "python",
   "pygments_lexer": "ipython3",
   "version": "3.11.5"
  }
 },
 "nbformat": 4,
 "nbformat_minor": 5
}
